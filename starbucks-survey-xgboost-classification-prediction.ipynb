{
 "cells": [
  {
   "cell_type": "markdown",
   "id": "bd4825c2",
   "metadata": {
    "papermill": {
     "duration": 0.042357,
     "end_time": "2021-12-29T04:27:06.628701",
     "exception": false,
     "start_time": "2021-12-29T04:27:06.586344",
     "status": "completed"
    },
    "tags": []
   },
   "source": [
    "\n",
    "\n",
    "---\n",
    "\n",
    "\n",
    "# **Business Understanding**\n",
    "\n",
    "1. Objective :\n",
    "> Classify and Predict Customer's Loyality with XGBoost Classifier\n",
    "\n",
    "2. Description :\n",
    "> This dataset is composed of a survey questions of over 100 respondents for their buying behavior at Starbucks.\n",
    "Income is show in Malaysian Ringgit (RM)\n",
    "\n",
    "\n",
    "\n"
   ]
  },
  {
   "cell_type": "markdown",
   "id": "1950dfd1",
   "metadata": {
    "papermill": {
     "duration": 0.039389,
     "end_time": "2021-12-29T04:27:06.708542",
     "exception": false,
     "start_time": "2021-12-29T04:27:06.669153",
     "status": "completed"
    },
    "tags": []
   },
   "source": [
    "\n",
    "\n",
    "---\n",
    "\n",
    "\n",
    "# **Data Understanding**\n",
    "\n"
   ]
  },
  {
   "cell_type": "markdown",
   "id": "0b7e8989",
   "metadata": {
    "papermill": {
     "duration": 0.041423,
     "end_time": "2021-12-29T04:27:06.791272",
     "exception": false,
     "start_time": "2021-12-29T04:27:06.749849",
     "status": "completed"
    },
    "tags": []
   },
   "source": [
    "\n",
    "## 1.1 Import Library\n",
    "The first thing that needs to be done for the code to work properly is to import the Library. The library here serves to call the functions required in data preprocessing to classification methods.\n"
   ]
  },
  {
   "cell_type": "code",
   "execution_count": 1,
   "id": "eeffd031",
   "metadata": {
    "execution": {
     "iopub.execute_input": "2021-12-29T04:27:06.880180Z",
     "iopub.status.busy": "2021-12-29T04:27:06.878413Z",
     "iopub.status.idle": "2021-12-29T04:27:08.529988Z",
     "shell.execute_reply": "2021-12-29T04:27:08.529264Z",
     "shell.execute_reply.started": "2021-12-29T04:09:13.481422Z"
    },
    "papermill": {
     "duration": 1.696818,
     "end_time": "2021-12-29T04:27:08.530184",
     "exception": false,
     "start_time": "2021-12-29T04:27:06.833366",
     "status": "completed"
    },
    "tags": []
   },
   "outputs": [],
   "source": [
    "import pandas as pd\n",
    "import numpy as np\n",
    "import warnings\n",
    "warnings.filterwarnings(\"ignore\")\n",
    "\n",
    "# Data Preparations\n",
    "from collections import Counter\n",
    "from sklearn.datasets import make_classification\n",
    "from imblearn.over_sampling import RandomOverSampler\n",
    "\n",
    "# Classification Modelling\n",
    "import xgboost as xgb\n",
    "from sklearn.model_selection import train_test_split\n",
    "\n",
    "# Plot Visualizations\n",
    "import matplotlib.pyplot as plt\n",
    "from sklearn.metrics import classification_report,plot_confusion_matrix,plot_roc_curve"
   ]
  },
  {
   "cell_type": "markdown",
   "id": "6958fb8a",
   "metadata": {
    "papermill": {
     "duration": 0.038913,
     "end_time": "2021-12-29T04:27:08.614559",
     "exception": false,
     "start_time": "2021-12-29T04:27:08.575646",
     "status": "completed"
    },
    "tags": []
   },
   "source": [
    "## 1.2 Load Data\n",
    "After the Library is imported, the next step is to access and load the dataset.\n",
    "\n"
   ]
  },
  {
   "cell_type": "code",
   "execution_count": 2,
   "id": "a2bb7fd6",
   "metadata": {
    "execution": {
     "iopub.execute_input": "2021-12-29T04:27:08.696209Z",
     "iopub.status.busy": "2021-12-29T04:27:08.695574Z",
     "iopub.status.idle": "2021-12-29T04:27:08.714960Z",
     "shell.execute_reply": "2021-12-29T04:27:08.715549Z",
     "shell.execute_reply.started": "2021-12-29T04:09:16.870868Z"
    },
    "papermill": {
     "duration": 0.061961,
     "end_time": "2021-12-29T04:27:08.715727",
     "exception": false,
     "start_time": "2021-12-29T04:27:08.653766",
     "status": "completed"
    },
    "tags": []
   },
   "outputs": [],
   "source": [
    "survey = pd.read_csv('../input/starbucks-customer-retention-malaysia-survey/Starbucks satisfactory survey.csv')"
   ]
  },
  {
   "cell_type": "markdown",
   "id": "f6a7a268",
   "metadata": {
    "papermill": {
     "duration": 0.039363,
     "end_time": "2021-12-29T04:27:08.795032",
     "exception": false,
     "start_time": "2021-12-29T04:27:08.755669",
     "status": "completed"
    },
    "tags": []
   },
   "source": [
    "## 1.3 Statistical Summaries and Visualisations\n",
    "To understand the data, we will now consider some key facts about the various variables including their relationship to the target variable, namely customer loyalty.\n",
    "\n",
    "We start by looking at a few rows of data.\n",
    "\n"
   ]
  },
  {
   "cell_type": "code",
   "execution_count": 3,
   "id": "af3beb35",
   "metadata": {
    "execution": {
     "iopub.execute_input": "2021-12-29T04:27:08.886638Z",
     "iopub.status.busy": "2021-12-29T04:27:08.885925Z",
     "iopub.status.idle": "2021-12-29T04:27:08.917568Z",
     "shell.execute_reply": "2021-12-29T04:27:08.918208Z",
     "shell.execute_reply.started": "2021-12-29T04:09:20.596705Z"
    },
    "papermill": {
     "duration": 0.081804,
     "end_time": "2021-12-29T04:27:08.918391",
     "exception": false,
     "start_time": "2021-12-29T04:27:08.836587",
     "status": "completed"
    },
    "tags": []
   },
   "outputs": [
    {
     "data": {
      "text/html": [
       "<div>\n",
       "<style scoped>\n",
       "    .dataframe tbody tr th:only-of-type {\n",
       "        vertical-align: middle;\n",
       "    }\n",
       "\n",
       "    .dataframe tbody tr th {\n",
       "        vertical-align: top;\n",
       "    }\n",
       "\n",
       "    .dataframe thead th {\n",
       "        text-align: right;\n",
       "    }\n",
       "</style>\n",
       "<table border=\"1\" class=\"dataframe\">\n",
       "  <thead>\n",
       "    <tr style=\"text-align: right;\">\n",
       "      <th></th>\n",
       "      <th>Timestamp</th>\n",
       "      <th>1. Your Gender</th>\n",
       "      <th>2. Your Age</th>\n",
       "      <th>3. Are you currently....?</th>\n",
       "      <th>4. What is your annual income?</th>\n",
       "      <th>5. How often do you visit Starbucks?</th>\n",
       "      <th>6. How do you usually enjoy Starbucks?</th>\n",
       "      <th>7. How much time do you normally  spend during your visit?</th>\n",
       "      <th>8. The nearest Starbucks's outlet to you is...?</th>\n",
       "      <th>9. Do you have Starbucks membership card?</th>\n",
       "      <th>...</th>\n",
       "      <th>11. On average, how much would you spend at Starbucks per visit?</th>\n",
       "      <th>12. How would you rate the quality of Starbucks compared to other brands (Coffee Bean, Old Town White Coffee..) to be:</th>\n",
       "      <th>13. How would you rate the price range at Starbucks?</th>\n",
       "      <th>14. How important are sales and promotions in your purchase decision?</th>\n",
       "      <th>15. How would you rate the ambiance at Starbucks? (lighting, music, etc...)</th>\n",
       "      <th>16. You rate the WiFi quality at Starbucks as..</th>\n",
       "      <th>17. How would you rate the service at Starbucks? (Promptness, friendliness, etc..)</th>\n",
       "      <th>18. How likely you will choose Starbucks for doing business meetings or hangout with friends?</th>\n",
       "      <th>19. How do you come to hear of promotions at Starbucks? Check all that apply.</th>\n",
       "      <th>20. Will you continue buying at Starbucks?</th>\n",
       "    </tr>\n",
       "  </thead>\n",
       "  <tbody>\n",
       "    <tr>\n",
       "      <th>0</th>\n",
       "      <td>2019/10/01 12:38:43 PM GMT+8</td>\n",
       "      <td>Female</td>\n",
       "      <td>From 20 to 29</td>\n",
       "      <td>Student</td>\n",
       "      <td>Less than RM25,000</td>\n",
       "      <td>Rarely</td>\n",
       "      <td>Dine in</td>\n",
       "      <td>Between 30 minutes to 1 hour</td>\n",
       "      <td>within 1km</td>\n",
       "      <td>Yes</td>\n",
       "      <td>...</td>\n",
       "      <td>Less than RM20</td>\n",
       "      <td>4</td>\n",
       "      <td>3</td>\n",
       "      <td>5</td>\n",
       "      <td>5</td>\n",
       "      <td>4</td>\n",
       "      <td>4</td>\n",
       "      <td>3</td>\n",
       "      <td>Starbucks Website/Apps;Social Media;Emails;Dea...</td>\n",
       "      <td>Yes</td>\n",
       "    </tr>\n",
       "    <tr>\n",
       "      <th>1</th>\n",
       "      <td>2019/10/01 12:38:54 PM GMT+8</td>\n",
       "      <td>Female</td>\n",
       "      <td>From 20 to 29</td>\n",
       "      <td>Student</td>\n",
       "      <td>Less than RM25,000</td>\n",
       "      <td>Rarely</td>\n",
       "      <td>Take away</td>\n",
       "      <td>Below 30 minutes</td>\n",
       "      <td>1km - 3km</td>\n",
       "      <td>Yes</td>\n",
       "      <td>...</td>\n",
       "      <td>Less than RM20</td>\n",
       "      <td>4</td>\n",
       "      <td>3</td>\n",
       "      <td>4</td>\n",
       "      <td>4</td>\n",
       "      <td>4</td>\n",
       "      <td>5</td>\n",
       "      <td>2</td>\n",
       "      <td>Social Media;In Store displays</td>\n",
       "      <td>Yes</td>\n",
       "    </tr>\n",
       "    <tr>\n",
       "      <th>2</th>\n",
       "      <td>2019/10/01 12:38:56 PM GMT+8</td>\n",
       "      <td>Male</td>\n",
       "      <td>From 20 to 29</td>\n",
       "      <td>Employed</td>\n",
       "      <td>Less than RM25,000</td>\n",
       "      <td>Monthly</td>\n",
       "      <td>Dine in</td>\n",
       "      <td>Between 30 minutes to 1 hour</td>\n",
       "      <td>more than 3km</td>\n",
       "      <td>Yes</td>\n",
       "      <td>...</td>\n",
       "      <td>Less than RM20</td>\n",
       "      <td>4</td>\n",
       "      <td>3</td>\n",
       "      <td>4</td>\n",
       "      <td>4</td>\n",
       "      <td>4</td>\n",
       "      <td>4</td>\n",
       "      <td>3</td>\n",
       "      <td>In Store displays;Billboards</td>\n",
       "      <td>Yes</td>\n",
       "    </tr>\n",
       "    <tr>\n",
       "      <th>3</th>\n",
       "      <td>2019/10/01 12:39:08 PM GMT+8</td>\n",
       "      <td>Female</td>\n",
       "      <td>From 20 to 29</td>\n",
       "      <td>Student</td>\n",
       "      <td>Less than RM25,000</td>\n",
       "      <td>Rarely</td>\n",
       "      <td>Take away</td>\n",
       "      <td>Below 30 minutes</td>\n",
       "      <td>more than 3km</td>\n",
       "      <td>No</td>\n",
       "      <td>...</td>\n",
       "      <td>Less than RM20</td>\n",
       "      <td>2</td>\n",
       "      <td>1</td>\n",
       "      <td>4</td>\n",
       "      <td>3</td>\n",
       "      <td>3</td>\n",
       "      <td>3</td>\n",
       "      <td>3</td>\n",
       "      <td>Through friends and word of mouth</td>\n",
       "      <td>No</td>\n",
       "    </tr>\n",
       "    <tr>\n",
       "      <th>4</th>\n",
       "      <td>2019/10/01 12:39:20 PM GMT+8</td>\n",
       "      <td>Male</td>\n",
       "      <td>From 20 to 29</td>\n",
       "      <td>Student</td>\n",
       "      <td>Less than RM25,000</td>\n",
       "      <td>Monthly</td>\n",
       "      <td>Take away</td>\n",
       "      <td>Between 30 minutes to 1 hour</td>\n",
       "      <td>1km - 3km</td>\n",
       "      <td>No</td>\n",
       "      <td>...</td>\n",
       "      <td>Around RM20 - RM40</td>\n",
       "      <td>3</td>\n",
       "      <td>3</td>\n",
       "      <td>4</td>\n",
       "      <td>2</td>\n",
       "      <td>2</td>\n",
       "      <td>3</td>\n",
       "      <td>3</td>\n",
       "      <td>Starbucks Website/Apps;Social Media</td>\n",
       "      <td>Yes</td>\n",
       "    </tr>\n",
       "  </tbody>\n",
       "</table>\n",
       "<p>5 rows × 21 columns</p>\n",
       "</div>"
      ],
      "text/plain": [
       "                      Timestamp 1. Your Gender    2. Your Age  \\\n",
       "0  2019/10/01 12:38:43 PM GMT+8         Female  From 20 to 29   \n",
       "1  2019/10/01 12:38:54 PM GMT+8         Female  From 20 to 29   \n",
       "2  2019/10/01 12:38:56 PM GMT+8           Male  From 20 to 29   \n",
       "3  2019/10/01 12:39:08 PM GMT+8         Female  From 20 to 29   \n",
       "4  2019/10/01 12:39:20 PM GMT+8           Male  From 20 to 29   \n",
       "\n",
       "  3. Are you currently....? 4. What is your annual income?  \\\n",
       "0                   Student             Less than RM25,000   \n",
       "1                   Student             Less than RM25,000   \n",
       "2                  Employed             Less than RM25,000   \n",
       "3                   Student             Less than RM25,000   \n",
       "4                   Student             Less than RM25,000   \n",
       "\n",
       "  5. How often do you visit Starbucks? 6. How do you usually enjoy Starbucks?  \\\n",
       "0                               Rarely                                Dine in   \n",
       "1                               Rarely                              Take away   \n",
       "2                              Monthly                                Dine in   \n",
       "3                               Rarely                              Take away   \n",
       "4                              Monthly                              Take away   \n",
       "\n",
       "  7. How much time do you normally  spend during your visit?  \\\n",
       "0                       Between 30 minutes to 1 hour           \n",
       "1                                   Below 30 minutes           \n",
       "2                       Between 30 minutes to 1 hour           \n",
       "3                                   Below 30 minutes           \n",
       "4                       Between 30 minutes to 1 hour           \n",
       "\n",
       "  8. The nearest Starbucks's outlet to you is...?  \\\n",
       "0                                      within 1km   \n",
       "1                                       1km - 3km   \n",
       "2                                   more than 3km   \n",
       "3                                   more than 3km   \n",
       "4                                       1km - 3km   \n",
       "\n",
       "  9. Do you have Starbucks membership card?  ...  \\\n",
       "0                                       Yes  ...   \n",
       "1                                       Yes  ...   \n",
       "2                                       Yes  ...   \n",
       "3                                        No  ...   \n",
       "4                                        No  ...   \n",
       "\n",
       "  11. On average, how much would you spend at Starbucks per visit?  \\\n",
       "0                                     Less than RM20                 \n",
       "1                                     Less than RM20                 \n",
       "2                                     Less than RM20                 \n",
       "3                                     Less than RM20                 \n",
       "4                                 Around RM20 - RM40                 \n",
       "\n",
       "  12. How would you rate the quality of Starbucks compared to other brands (Coffee Bean, Old Town White Coffee..) to be:  \\\n",
       "0                                                  4                                                                       \n",
       "1                                                  4                                                                       \n",
       "2                                                  4                                                                       \n",
       "3                                                  2                                                                       \n",
       "4                                                  3                                                                       \n",
       "\n",
       "   13. How would you rate the price range at Starbucks?  \\\n",
       "0                                                  3      \n",
       "1                                                  3      \n",
       "2                                                  3      \n",
       "3                                                  1      \n",
       "4                                                  3      \n",
       "\n",
       "   14. How important are sales and promotions in your purchase decision?  \\\n",
       "0                                                  5                       \n",
       "1                                                  4                       \n",
       "2                                                  4                       \n",
       "3                                                  4                       \n",
       "4                                                  4                       \n",
       "\n",
       "   15. How would you rate the ambiance at Starbucks? (lighting, music, etc...)  \\\n",
       "0                                                  5                             \n",
       "1                                                  4                             \n",
       "2                                                  4                             \n",
       "3                                                  3                             \n",
       "4                                                  2                             \n",
       "\n",
       "   16. You rate the WiFi quality at Starbucks as..  \\\n",
       "0                                                4   \n",
       "1                                                4   \n",
       "2                                                4   \n",
       "3                                                3   \n",
       "4                                                2   \n",
       "\n",
       "   17. How would you rate the service at Starbucks? (Promptness, friendliness, etc..)  \\\n",
       "0                                                  4                                    \n",
       "1                                                  5                                    \n",
       "2                                                  4                                    \n",
       "3                                                  3                                    \n",
       "4                                                  3                                    \n",
       "\n",
       "   18. How likely you will choose Starbucks for doing business meetings or hangout with friends?  \\\n",
       "0                                                  3                                               \n",
       "1                                                  2                                               \n",
       "2                                                  3                                               \n",
       "3                                                  3                                               \n",
       "4                                                  3                                               \n",
       "\n",
       "   19. How do you come to hear of promotions at Starbucks? Check all that apply.  \\\n",
       "0  Starbucks Website/Apps;Social Media;Emails;Dea...                               \n",
       "1                     Social Media;In Store displays                               \n",
       "2                       In Store displays;Billboards                               \n",
       "3                  Through friends and word of mouth                               \n",
       "4                Starbucks Website/Apps;Social Media                               \n",
       "\n",
       "  20. Will you continue buying at Starbucks?  \n",
       "0                                        Yes  \n",
       "1                                        Yes  \n",
       "2                                        Yes  \n",
       "3                                         No  \n",
       "4                                        Yes  \n",
       "\n",
       "[5 rows x 21 columns]"
      ]
     },
     "execution_count": 3,
     "metadata": {},
     "output_type": "execute_result"
    }
   ],
   "source": [
    "survey.head()"
   ]
  },
  {
   "cell_type": "markdown",
   "id": "dc876d6f",
   "metadata": {
    "papermill": {
     "duration": 0.040585,
     "end_time": "2021-12-29T04:27:09.000234",
     "exception": false,
     "start_time": "2021-12-29T04:27:08.959649",
     "status": "completed"
    },
    "tags": []
   },
   "source": [
    "## 1.4 Data Cleaning\n",
    "To simplify the dataset, it is necessary to clean up the non-essential data.\n",
    "\n"
   ]
  },
  {
   "cell_type": "code",
   "execution_count": 4,
   "id": "07c499de",
   "metadata": {
    "execution": {
     "iopub.execute_input": "2021-12-29T04:27:09.087889Z",
     "iopub.status.busy": "2021-12-29T04:27:09.087245Z",
     "iopub.status.idle": "2021-12-29T04:27:09.088996Z",
     "shell.execute_reply": "2021-12-29T04:27:09.089546Z",
     "shell.execute_reply.started": "2021-12-29T04:09:25.896444Z"
    },
    "papermill": {
     "duration": 0.048513,
     "end_time": "2021-12-29T04:27:09.089711",
     "exception": false,
     "start_time": "2021-12-29T04:27:09.041198",
     "status": "completed"
    },
    "tags": []
   },
   "outputs": [],
   "source": [
    "data = survey.copy()"
   ]
  },
  {
   "cell_type": "code",
   "execution_count": 5,
   "id": "2b298d61",
   "metadata": {
    "execution": {
     "iopub.execute_input": "2021-12-29T04:27:09.175148Z",
     "iopub.status.busy": "2021-12-29T04:27:09.174482Z",
     "iopub.status.idle": "2021-12-29T04:27:09.186593Z",
     "shell.execute_reply": "2021-12-29T04:27:09.187165Z",
     "shell.execute_reply.started": "2021-12-29T04:09:28.865067Z"
    },
    "papermill": {
     "duration": 0.056079,
     "end_time": "2021-12-29T04:27:09.187357",
     "exception": false,
     "start_time": "2021-12-29T04:27:09.131278",
     "status": "completed"
    },
    "tags": []
   },
   "outputs": [],
   "source": [
    "data.drop(columns=['Timestamp'], inplace = True)\n",
    "data.drop(columns=['10. What do you most frequently purchase at Starbucks?'], inplace = True)\n",
    "data.drop(columns=['19. How do you come to hear of promotions at Starbucks? Check all that apply.'], inplace = True)"
   ]
  },
  {
   "cell_type": "code",
   "execution_count": 6,
   "id": "5fc86622",
   "metadata": {
    "execution": {
     "iopub.execute_input": "2021-12-29T04:27:09.272014Z",
     "iopub.status.busy": "2021-12-29T04:27:09.271382Z",
     "iopub.status.idle": "2021-12-29T04:27:09.277903Z",
     "shell.execute_reply": "2021-12-29T04:27:09.278503Z",
     "shell.execute_reply.started": "2021-12-29T04:09:31.786098Z"
    },
    "papermill": {
     "duration": 0.050738,
     "end_time": "2021-12-29T04:27:09.278676",
     "exception": false,
     "start_time": "2021-12-29T04:27:09.227938",
     "status": "completed"
    },
    "tags": []
   },
   "outputs": [],
   "source": [
    "data.rename({'1. Your Gender' : 'Gender', '2. Your Age' : 'Age', '3. Are you currently....?' : 'Work_Status', '4. What is your annual income?' : 'Annual_Income', '5. How often do you visit Starbucks?' : 'Visit', '6. How do you usually enjoy Starbucks?' : 'Visit_Type', '7. How much time do you normally  spend during your visit?' : 'Visit_Duration', \"8. The nearest Starbucks's outlet to you is...?\" : 'Distance', '9. Do you have Starbucks membership card?' : 'Membership', '11. On average, how much would you spend at Starbucks per visit?' : 'Spending', '12. How would you rate the quality of Starbucks compared to other brands (Coffee Bean, Old Town White Coffee..) to be:' : 'Product_Rating', '13. How would you rate the price range at Starbucks?' : 'Price_Rating', '14. How important are sales and promotions in your purchase decision?' : 'Promo_Rating', '15. How would you rate the ambiance at Starbucks? (lighting, music, etc...)' : 'Ambiance_Rating', '16. You rate the WiFi quality at Starbucks as..' : 'Wifi_Rating', '17. How would you rate the service at Starbucks? (Promptness, friendliness, etc..)' : 'Service_Rating', '18. How likely you will choose Starbucks for doing business meetings or hangout with friends?' : 'Hangout_Rating', '20. Will you continue buying at Starbucks?' : 'Loyality'} , inplace = True , axis = 1)"
   ]
  },
  {
   "cell_type": "code",
   "execution_count": 7,
   "id": "f0dc0666",
   "metadata": {
    "execution": {
     "iopub.execute_input": "2021-12-29T04:27:09.363159Z",
     "iopub.status.busy": "2021-12-29T04:27:09.362456Z",
     "iopub.status.idle": "2021-12-29T04:27:09.379276Z",
     "shell.execute_reply": "2021-12-29T04:27:09.379860Z",
     "shell.execute_reply.started": "2021-12-29T04:09:34.760534Z"
    },
    "papermill": {
     "duration": 0.060855,
     "end_time": "2021-12-29T04:27:09.380039",
     "exception": false,
     "start_time": "2021-12-29T04:27:09.319184",
     "status": "completed"
    },
    "tags": []
   },
   "outputs": [
    {
     "data": {
      "text/html": [
       "<div>\n",
       "<style scoped>\n",
       "    .dataframe tbody tr th:only-of-type {\n",
       "        vertical-align: middle;\n",
       "    }\n",
       "\n",
       "    .dataframe tbody tr th {\n",
       "        vertical-align: top;\n",
       "    }\n",
       "\n",
       "    .dataframe thead th {\n",
       "        text-align: right;\n",
       "    }\n",
       "</style>\n",
       "<table border=\"1\" class=\"dataframe\">\n",
       "  <thead>\n",
       "    <tr style=\"text-align: right;\">\n",
       "      <th></th>\n",
       "      <th>Gender</th>\n",
       "      <th>Age</th>\n",
       "      <th>Work_Status</th>\n",
       "      <th>Annual_Income</th>\n",
       "      <th>Visit</th>\n",
       "      <th>Visit_Type</th>\n",
       "      <th>Visit_Duration</th>\n",
       "      <th>Distance</th>\n",
       "      <th>Membership</th>\n",
       "      <th>Spending</th>\n",
       "      <th>Product_Rating</th>\n",
       "      <th>Price_Rating</th>\n",
       "      <th>Promo_Rating</th>\n",
       "      <th>Ambiance_Rating</th>\n",
       "      <th>Wifi_Rating</th>\n",
       "      <th>Service_Rating</th>\n",
       "      <th>Hangout_Rating</th>\n",
       "      <th>Loyality</th>\n",
       "    </tr>\n",
       "  </thead>\n",
       "  <tbody>\n",
       "    <tr>\n",
       "      <th>0</th>\n",
       "      <td>Female</td>\n",
       "      <td>From 20 to 29</td>\n",
       "      <td>Student</td>\n",
       "      <td>Less than RM25,000</td>\n",
       "      <td>Rarely</td>\n",
       "      <td>Dine in</td>\n",
       "      <td>Between 30 minutes to 1 hour</td>\n",
       "      <td>within 1km</td>\n",
       "      <td>Yes</td>\n",
       "      <td>Less than RM20</td>\n",
       "      <td>4</td>\n",
       "      <td>3</td>\n",
       "      <td>5</td>\n",
       "      <td>5</td>\n",
       "      <td>4</td>\n",
       "      <td>4</td>\n",
       "      <td>3</td>\n",
       "      <td>Yes</td>\n",
       "    </tr>\n",
       "    <tr>\n",
       "      <th>1</th>\n",
       "      <td>Female</td>\n",
       "      <td>From 20 to 29</td>\n",
       "      <td>Student</td>\n",
       "      <td>Less than RM25,000</td>\n",
       "      <td>Rarely</td>\n",
       "      <td>Take away</td>\n",
       "      <td>Below 30 minutes</td>\n",
       "      <td>1km - 3km</td>\n",
       "      <td>Yes</td>\n",
       "      <td>Less than RM20</td>\n",
       "      <td>4</td>\n",
       "      <td>3</td>\n",
       "      <td>4</td>\n",
       "      <td>4</td>\n",
       "      <td>4</td>\n",
       "      <td>5</td>\n",
       "      <td>2</td>\n",
       "      <td>Yes</td>\n",
       "    </tr>\n",
       "    <tr>\n",
       "      <th>2</th>\n",
       "      <td>Male</td>\n",
       "      <td>From 20 to 29</td>\n",
       "      <td>Employed</td>\n",
       "      <td>Less than RM25,000</td>\n",
       "      <td>Monthly</td>\n",
       "      <td>Dine in</td>\n",
       "      <td>Between 30 minutes to 1 hour</td>\n",
       "      <td>more than 3km</td>\n",
       "      <td>Yes</td>\n",
       "      <td>Less than RM20</td>\n",
       "      <td>4</td>\n",
       "      <td>3</td>\n",
       "      <td>4</td>\n",
       "      <td>4</td>\n",
       "      <td>4</td>\n",
       "      <td>4</td>\n",
       "      <td>3</td>\n",
       "      <td>Yes</td>\n",
       "    </tr>\n",
       "    <tr>\n",
       "      <th>3</th>\n",
       "      <td>Female</td>\n",
       "      <td>From 20 to 29</td>\n",
       "      <td>Student</td>\n",
       "      <td>Less than RM25,000</td>\n",
       "      <td>Rarely</td>\n",
       "      <td>Take away</td>\n",
       "      <td>Below 30 minutes</td>\n",
       "      <td>more than 3km</td>\n",
       "      <td>No</td>\n",
       "      <td>Less than RM20</td>\n",
       "      <td>2</td>\n",
       "      <td>1</td>\n",
       "      <td>4</td>\n",
       "      <td>3</td>\n",
       "      <td>3</td>\n",
       "      <td>3</td>\n",
       "      <td>3</td>\n",
       "      <td>No</td>\n",
       "    </tr>\n",
       "    <tr>\n",
       "      <th>4</th>\n",
       "      <td>Male</td>\n",
       "      <td>From 20 to 29</td>\n",
       "      <td>Student</td>\n",
       "      <td>Less than RM25,000</td>\n",
       "      <td>Monthly</td>\n",
       "      <td>Take away</td>\n",
       "      <td>Between 30 minutes to 1 hour</td>\n",
       "      <td>1km - 3km</td>\n",
       "      <td>No</td>\n",
       "      <td>Around RM20 - RM40</td>\n",
       "      <td>3</td>\n",
       "      <td>3</td>\n",
       "      <td>4</td>\n",
       "      <td>2</td>\n",
       "      <td>2</td>\n",
       "      <td>3</td>\n",
       "      <td>3</td>\n",
       "      <td>Yes</td>\n",
       "    </tr>\n",
       "  </tbody>\n",
       "</table>\n",
       "</div>"
      ],
      "text/plain": [
       "   Gender            Age Work_Status       Annual_Income    Visit Visit_Type  \\\n",
       "0  Female  From 20 to 29     Student  Less than RM25,000   Rarely    Dine in   \n",
       "1  Female  From 20 to 29     Student  Less than RM25,000   Rarely  Take away   \n",
       "2    Male  From 20 to 29    Employed  Less than RM25,000  Monthly    Dine in   \n",
       "3  Female  From 20 to 29     Student  Less than RM25,000   Rarely  Take away   \n",
       "4    Male  From 20 to 29     Student  Less than RM25,000  Monthly  Take away   \n",
       "\n",
       "                 Visit_Duration       Distance Membership            Spending  \\\n",
       "0  Between 30 minutes to 1 hour     within 1km        Yes      Less than RM20   \n",
       "1              Below 30 minutes      1km - 3km        Yes      Less than RM20   \n",
       "2  Between 30 minutes to 1 hour  more than 3km        Yes      Less than RM20   \n",
       "3              Below 30 minutes  more than 3km         No      Less than RM20   \n",
       "4  Between 30 minutes to 1 hour      1km - 3km         No  Around RM20 - RM40   \n",
       "\n",
       "   Product_Rating  Price_Rating  Promo_Rating  Ambiance_Rating  Wifi_Rating  \\\n",
       "0               4             3             5                5            4   \n",
       "1               4             3             4                4            4   \n",
       "2               4             3             4                4            4   \n",
       "3               2             1             4                3            3   \n",
       "4               3             3             4                2            2   \n",
       "\n",
       "   Service_Rating  Hangout_Rating Loyality  \n",
       "0               4               3      Yes  \n",
       "1               5               2      Yes  \n",
       "2               4               3      Yes  \n",
       "3               3               3       No  \n",
       "4               3               3      Yes  "
      ]
     },
     "execution_count": 7,
     "metadata": {},
     "output_type": "execute_result"
    }
   ],
   "source": [
    "data.head()"
   ]
  },
  {
   "cell_type": "markdown",
   "id": "078902e1",
   "metadata": {
    "papermill": {
     "duration": 0.043171,
     "end_time": "2021-12-29T04:27:09.464999",
     "exception": false,
     "start_time": "2021-12-29T04:27:09.421828",
     "status": "completed"
    },
    "tags": []
   },
   "source": [
    "**Variable Description**\n",
    "\n",
    "* *Gender*: Female or Male.\n",
    "* *Age*: Age range of respondents.\n",
    "* *Work_Status*: Respondent's employment status.\n",
    "* *Annual_Income*: Respondent's income (in Malaysian Ringgit).\n",
    "* *Visit*: How often the respondent visits.\n",
    "* *Visit_Type*: Type of visit (eat in or take away).\n",
    "* *Visit_Duration*: Length of visit.\n",
    "* *Distance*: The distance of the nearest Starbucks outlet from the respondent's location.\n",
    "* *Membership*: Ownership of respondent's membership card.\n",
    "* *Spending*: The respondent's average purchase expenditure.\n",
    "* *Product_Rating*: Product rating by respondents on a scale of 1-5.\n",
    "* *Price_Rating*: Price rating by respondents on a scale of 1-5.\n",
    "* *Promo_Rating*: Promotion rating by respondents on a scale of 1-5.\n",
    "* *Ambiance_Rating*: Atmosphere rating by respondents on a scale of 1-5.\n",
    "* *Wifi_Rating*: WiFi rating by respondents on a scale of 1-5.\n",
    "* *Service_Rating*: Service rating by respondents on a scale of 1-5.\n",
    "* *Hangout_Rating*: The suitability rating as a hangout place by respondents on a scale of 1-5.\n",
    "\n",
    "**Variable Target**\n",
    "\n",
    "* *Loyality*: Customer loyalty in product purchases.\n",
    "\n",
    "\n",
    "\n"
   ]
  },
  {
   "cell_type": "markdown",
   "id": "a1892b5e",
   "metadata": {
    "papermill": {
     "duration": 0.041055,
     "end_time": "2021-12-29T04:27:09.547554",
     "exception": false,
     "start_time": "2021-12-29T04:27:09.506499",
     "status": "completed"
    },
    "tags": []
   },
   "source": [
    "\n",
    "\n",
    "---\n",
    "\n",
    "\n",
    "# **Data Preparation**\n"
   ]
  },
  {
   "cell_type": "markdown",
   "id": "0bdb4879",
   "metadata": {
    "papermill": {
     "duration": 0.041435,
     "end_time": "2021-12-29T04:27:09.631064",
     "exception": false,
     "start_time": "2021-12-29T04:27:09.589629",
     "status": "completed"
    },
    "tags": []
   },
   "source": [
    "\n",
    "## 2.1 Missing Value\n",
    "At this stage will be checked for missing values. Missing value here means a data in an attribute that has no value.\n",
    "\n"
   ]
  },
  {
   "cell_type": "code",
   "execution_count": 8,
   "id": "909b3cd1",
   "metadata": {
    "execution": {
     "iopub.execute_input": "2021-12-29T04:27:09.718271Z",
     "iopub.status.busy": "2021-12-29T04:27:09.717561Z",
     "iopub.status.idle": "2021-12-29T04:27:09.725002Z",
     "shell.execute_reply": "2021-12-29T04:27:09.725564Z",
     "shell.execute_reply.started": "2021-12-29T04:09:42.302341Z"
    },
    "papermill": {
     "duration": 0.053286,
     "end_time": "2021-12-29T04:27:09.725736",
     "exception": false,
     "start_time": "2021-12-29T04:27:09.672450",
     "status": "completed"
    },
    "tags": []
   },
   "outputs": [
    {
     "data": {
      "text/plain": [
       "Gender             False\n",
       "Age                False\n",
       "Work_Status        False\n",
       "Annual_Income      False\n",
       "Visit              False\n",
       "Visit_Type          True\n",
       "Visit_Duration     False\n",
       "Distance           False\n",
       "Membership         False\n",
       "Spending           False\n",
       "Product_Rating     False\n",
       "Price_Rating       False\n",
       "Promo_Rating       False\n",
       "Ambiance_Rating    False\n",
       "Wifi_Rating        False\n",
       "Service_Rating     False\n",
       "Hangout_Rating     False\n",
       "Loyality           False\n",
       "dtype: bool"
      ]
     },
     "execution_count": 8,
     "metadata": {},
     "output_type": "execute_result"
    }
   ],
   "source": [
    "# Check for missing values\n",
    "data.isnull().any()"
   ]
  },
  {
   "cell_type": "code",
   "execution_count": 9,
   "id": "b4fcbeea",
   "metadata": {
    "execution": {
     "iopub.execute_input": "2021-12-29T04:27:09.818234Z",
     "iopub.status.busy": "2021-12-29T04:27:09.817531Z",
     "iopub.status.idle": "2021-12-29T04:27:09.820080Z",
     "shell.execute_reply": "2021-12-29T04:27:09.820579Z",
     "shell.execute_reply.started": "2021-12-29T04:09:46.650828Z"
    },
    "papermill": {
     "duration": 0.053125,
     "end_time": "2021-12-29T04:27:09.820742",
     "exception": false,
     "start_time": "2021-12-29T04:27:09.767617",
     "status": "completed"
    },
    "tags": []
   },
   "outputs": [
    {
     "data": {
      "text/plain": [
       "array(['Dine in', 'Take away', 'Drive-thru', 'never', 'Never buy', nan,\n",
       "       'I dont like coffee', 'Never', 'Never '], dtype=object)"
      ]
     },
     "execution_count": 9,
     "metadata": {},
     "output_type": "execute_result"
    }
   ],
   "source": [
    "# Missing value is written as nan\n",
    "data['Visit_Type'].unique()"
   ]
  },
  {
   "cell_type": "code",
   "execution_count": 10,
   "id": "7fe40636",
   "metadata": {
    "execution": {
     "iopub.execute_input": "2021-12-29T04:27:09.909310Z",
     "iopub.status.busy": "2021-12-29T04:27:09.908640Z",
     "iopub.status.idle": "2021-12-29T04:27:09.912812Z",
     "shell.execute_reply": "2021-12-29T04:27:09.913393Z",
     "shell.execute_reply.started": "2021-12-29T04:09:49.686579Z"
    },
    "papermill": {
     "duration": 0.051158,
     "end_time": "2021-12-29T04:27:09.913563",
     "exception": false,
     "start_time": "2021-12-29T04:27:09.862405",
     "status": "completed"
    },
    "tags": []
   },
   "outputs": [],
   "source": [
    "# Change the value of nan to never\n",
    "data['Visit_Type'].fillna('never', inplace = True)"
   ]
  },
  {
   "cell_type": "code",
   "execution_count": 11,
   "id": "5afad6a5",
   "metadata": {
    "execution": {
     "iopub.execute_input": "2021-12-29T04:27:10.010261Z",
     "iopub.status.busy": "2021-12-29T04:27:10.009582Z",
     "iopub.status.idle": "2021-12-29T04:27:10.012073Z",
     "shell.execute_reply": "2021-12-29T04:27:10.012678Z",
     "shell.execute_reply.started": "2021-12-29T04:09:52.980240Z"
    },
    "papermill": {
     "duration": 0.056521,
     "end_time": "2021-12-29T04:27:10.012855",
     "exception": false,
     "start_time": "2021-12-29T04:27:09.956334",
     "status": "completed"
    },
    "tags": []
   },
   "outputs": [
    {
     "data": {
      "text/plain": [
       "Take away     49\n",
       "Dine in       46\n",
       "Drive-thru    20\n",
       "Never buy      7\n",
       "Name: Visit_Type, dtype: int64"
      ]
     },
     "execution_count": 11,
     "metadata": {},
     "output_type": "execute_result"
    }
   ],
   "source": [
    "# Delete redundant data to the Never Buy value\n",
    "data['Visit_Type'].replace(['never', 'Never buy', 'I dont like coffee', 'Never', 'Never '], 'Never buy', inplace = True)\n",
    "data['Visit_Type'].value_counts()"
   ]
  },
  {
   "cell_type": "code",
   "execution_count": 12,
   "id": "49e4970c",
   "metadata": {
    "execution": {
     "iopub.execute_input": "2021-12-29T04:27:10.100514Z",
     "iopub.status.busy": "2021-12-29T04:27:10.099902Z",
     "iopub.status.idle": "2021-12-29T04:27:10.107572Z",
     "shell.execute_reply": "2021-12-29T04:27:10.108193Z",
     "shell.execute_reply.started": "2021-12-29T04:09:55.357149Z"
    },
    "papermill": {
     "duration": 0.052939,
     "end_time": "2021-12-29T04:27:10.108364",
     "exception": false,
     "start_time": "2021-12-29T04:27:10.055425",
     "status": "completed"
    },
    "tags": []
   },
   "outputs": [
    {
     "data": {
      "text/plain": [
       "Gender             False\n",
       "Age                False\n",
       "Work_Status        False\n",
       "Annual_Income      False\n",
       "Visit              False\n",
       "Visit_Type         False\n",
       "Visit_Duration     False\n",
       "Distance           False\n",
       "Membership         False\n",
       "Spending           False\n",
       "Product_Rating     False\n",
       "Price_Rating       False\n",
       "Promo_Rating       False\n",
       "Ambiance_Rating    False\n",
       "Wifi_Rating        False\n",
       "Service_Rating     False\n",
       "Hangout_Rating     False\n",
       "Loyality           False\n",
       "dtype: bool"
      ]
     },
     "execution_count": 12,
     "metadata": {},
     "output_type": "execute_result"
    }
   ],
   "source": [
    "# Make sure there are no more missing values\n",
    "data.isnull().any()"
   ]
  },
  {
   "cell_type": "markdown",
   "id": "b6564feb",
   "metadata": {
    "papermill": {
     "duration": 0.043037,
     "end_time": "2021-12-29T04:27:10.195716",
     "exception": false,
     "start_time": "2021-12-29T04:27:10.152679",
     "status": "completed"
    },
    "tags": []
   },
   "source": [
    "\n",
    "## 2.2 Change Categorical Variables to Numerical\n",
    "In this dataset, many still use categorical variables. In order for machine learning to understand the data, these variables must be converted to numerical.\n",
    "\n"
   ]
  },
  {
   "cell_type": "code",
   "execution_count": 13,
   "id": "ddc8ed3e",
   "metadata": {
    "execution": {
     "iopub.execute_input": "2021-12-29T04:27:10.288132Z",
     "iopub.status.busy": "2021-12-29T04:27:10.287137Z",
     "iopub.status.idle": "2021-12-29T04:27:10.291855Z",
     "shell.execute_reply": "2021-12-29T04:27:10.292469Z",
     "shell.execute_reply.started": "2021-12-29T04:09:59.140949Z"
    },
    "papermill": {
     "duration": 0.053976,
     "end_time": "2021-12-29T04:27:10.292632",
     "exception": false,
     "start_time": "2021-12-29T04:27:10.238656",
     "status": "completed"
    },
    "tags": []
   },
   "outputs": [
    {
     "data": {
      "text/plain": [
       "Gender             object\n",
       "Age                object\n",
       "Work_Status        object\n",
       "Annual_Income      object\n",
       "Visit              object\n",
       "Visit_Type         object\n",
       "Visit_Duration     object\n",
       "Distance           object\n",
       "Membership         object\n",
       "Spending           object\n",
       "Product_Rating      int64\n",
       "Price_Rating        int64\n",
       "Promo_Rating        int64\n",
       "Ambiance_Rating     int64\n",
       "Wifi_Rating         int64\n",
       "Service_Rating      int64\n",
       "Hangout_Rating      int64\n",
       "Loyality           object\n",
       "dtype: object"
      ]
     },
     "execution_count": 13,
     "metadata": {},
     "output_type": "execute_result"
    }
   ],
   "source": [
    "data.dtypes"
   ]
  },
  {
   "cell_type": "code",
   "execution_count": 14,
   "id": "e3bf78c6",
   "metadata": {
    "execution": {
     "iopub.execute_input": "2021-12-29T04:27:10.381931Z",
     "iopub.status.busy": "2021-12-29T04:27:10.380949Z",
     "iopub.status.idle": "2021-12-29T04:27:10.386786Z",
     "shell.execute_reply": "2021-12-29T04:27:10.387389Z",
     "shell.execute_reply.started": "2021-12-29T04:10:02.035552Z"
    },
    "papermill": {
     "duration": 0.052146,
     "end_time": "2021-12-29T04:27:10.387551",
     "exception": false,
     "start_time": "2021-12-29T04:27:10.335405",
     "status": "completed"
    },
    "tags": []
   },
   "outputs": [
    {
     "data": {
      "text/plain": [
       "array(['Female', 'Male'], dtype=object)"
      ]
     },
     "execution_count": 14,
     "metadata": {},
     "output_type": "execute_result"
    }
   ],
   "source": [
    "data['Gender'].unique()"
   ]
  },
  {
   "cell_type": "code",
   "execution_count": 15,
   "id": "c06f5d25",
   "metadata": {
    "execution": {
     "iopub.execute_input": "2021-12-29T04:27:10.478778Z",
     "iopub.status.busy": "2021-12-29T04:27:10.477762Z",
     "iopub.status.idle": "2021-12-29T04:27:10.481924Z",
     "shell.execute_reply": "2021-12-29T04:27:10.482520Z",
     "shell.execute_reply.started": "2021-12-29T04:10:04.691349Z"
    },
    "papermill": {
     "duration": 0.051976,
     "end_time": "2021-12-29T04:27:10.482681",
     "exception": false,
     "start_time": "2021-12-29T04:27:10.430705",
     "status": "completed"
    },
    "tags": []
   },
   "outputs": [
    {
     "data": {
      "text/plain": [
       "array(['From 20 to 29', 'From 30 to 39', '40 and above', 'Below 20'],\n",
       "      dtype=object)"
      ]
     },
     "execution_count": 15,
     "metadata": {},
     "output_type": "execute_result"
    }
   ],
   "source": [
    "data['Age'].unique()"
   ]
  },
  {
   "cell_type": "code",
   "execution_count": 16,
   "id": "6fa2cd80",
   "metadata": {
    "execution": {
     "iopub.execute_input": "2021-12-29T04:27:10.573141Z",
     "iopub.status.busy": "2021-12-29T04:27:10.572200Z",
     "iopub.status.idle": "2021-12-29T04:27:10.577999Z",
     "shell.execute_reply": "2021-12-29T04:27:10.578614Z",
     "shell.execute_reply.started": "2021-12-29T04:10:06.621117Z"
    },
    "papermill": {
     "duration": 0.052541,
     "end_time": "2021-12-29T04:27:10.578779",
     "exception": false,
     "start_time": "2021-12-29T04:27:10.526238",
     "status": "completed"
    },
    "tags": []
   },
   "outputs": [
    {
     "data": {
      "text/plain": [
       "array(['Student', 'Employed', 'Self-employed', 'Housewife'], dtype=object)"
      ]
     },
     "execution_count": 16,
     "metadata": {},
     "output_type": "execute_result"
    }
   ],
   "source": [
    "data['Work_Status'].unique()"
   ]
  },
  {
   "cell_type": "code",
   "execution_count": 17,
   "id": "378c7f53",
   "metadata": {
    "execution": {
     "iopub.execute_input": "2021-12-29T04:27:10.670024Z",
     "iopub.status.busy": "2021-12-29T04:27:10.669077Z",
     "iopub.status.idle": "2021-12-29T04:27:10.674966Z",
     "shell.execute_reply": "2021-12-29T04:27:10.675564Z",
     "shell.execute_reply.started": "2021-12-29T04:10:09.190023Z"
    },
    "papermill": {
     "duration": 0.053151,
     "end_time": "2021-12-29T04:27:10.675726",
     "exception": false,
     "start_time": "2021-12-29T04:27:10.622575",
     "status": "completed"
    },
    "tags": []
   },
   "outputs": [
    {
     "data": {
      "text/plain": [
       "array(['Less than RM25,000', 'RM50,000 - RM100,000',\n",
       "       'RM25,000 - RM50,000', 'RM100,000 - RM150,000',\n",
       "       'More than RM150,000'], dtype=object)"
      ]
     },
     "execution_count": 17,
     "metadata": {},
     "output_type": "execute_result"
    }
   ],
   "source": [
    "data['Annual_Income'].unique()"
   ]
  },
  {
   "cell_type": "code",
   "execution_count": 18,
   "id": "13d78f99",
   "metadata": {
    "execution": {
     "iopub.execute_input": "2021-12-29T04:27:10.767456Z",
     "iopub.status.busy": "2021-12-29T04:27:10.766518Z",
     "iopub.status.idle": "2021-12-29T04:27:10.772160Z",
     "shell.execute_reply": "2021-12-29T04:27:10.772747Z",
     "shell.execute_reply.started": "2021-12-29T04:10:11.640222Z"
    },
    "papermill": {
     "duration": 0.053033,
     "end_time": "2021-12-29T04:27:10.772911",
     "exception": false,
     "start_time": "2021-12-29T04:27:10.719878",
     "status": "completed"
    },
    "tags": []
   },
   "outputs": [
    {
     "data": {
      "text/plain": [
       "array(['Rarely', 'Monthly', 'Weekly', 'Never', 'Daily'], dtype=object)"
      ]
     },
     "execution_count": 18,
     "metadata": {},
     "output_type": "execute_result"
    }
   ],
   "source": [
    "data['Visit'].unique()"
   ]
  },
  {
   "cell_type": "code",
   "execution_count": 19,
   "id": "987974f4",
   "metadata": {
    "execution": {
     "iopub.execute_input": "2021-12-29T04:27:10.867163Z",
     "iopub.status.busy": "2021-12-29T04:27:10.866194Z",
     "iopub.status.idle": "2021-12-29T04:27:10.871827Z",
     "shell.execute_reply": "2021-12-29T04:27:10.872440Z",
     "shell.execute_reply.started": "2021-12-29T04:10:14.436264Z"
    },
    "papermill": {
     "duration": 0.054291,
     "end_time": "2021-12-29T04:27:10.872608",
     "exception": false,
     "start_time": "2021-12-29T04:27:10.818317",
     "status": "completed"
    },
    "tags": []
   },
   "outputs": [
    {
     "data": {
      "text/plain": [
       "array(['Dine in', 'Take away', 'Drive-thru', 'Never buy'], dtype=object)"
      ]
     },
     "execution_count": 19,
     "metadata": {},
     "output_type": "execute_result"
    }
   ],
   "source": [
    "data['Visit_Type'].unique()"
   ]
  },
  {
   "cell_type": "code",
   "execution_count": 20,
   "id": "db4ec3e5",
   "metadata": {
    "execution": {
     "iopub.execute_input": "2021-12-29T04:27:10.967552Z",
     "iopub.status.busy": "2021-12-29T04:27:10.966613Z",
     "iopub.status.idle": "2021-12-29T04:27:10.972403Z",
     "shell.execute_reply": "2021-12-29T04:27:10.972972Z",
     "shell.execute_reply.started": "2021-12-29T04:10:16.382235Z"
    },
    "papermill": {
     "duration": 0.053995,
     "end_time": "2021-12-29T04:27:10.973151",
     "exception": false,
     "start_time": "2021-12-29T04:27:10.919156",
     "status": "completed"
    },
    "tags": []
   },
   "outputs": [
    {
     "data": {
      "text/plain": [
       "array(['Between 30 minutes to 1 hour', 'Below 30 minutes',\n",
       "       'More than 3 hours', 'Between 1 hour to 2 hours',\n",
       "       'Between 2 hours to 3 hours'], dtype=object)"
      ]
     },
     "execution_count": 20,
     "metadata": {},
     "output_type": "execute_result"
    }
   ],
   "source": [
    "data['Visit_Duration'].unique()"
   ]
  },
  {
   "cell_type": "code",
   "execution_count": 21,
   "id": "ff8749f1",
   "metadata": {
    "execution": {
     "iopub.execute_input": "2021-12-29T04:27:11.067684Z",
     "iopub.status.busy": "2021-12-29T04:27:11.066667Z",
     "iopub.status.idle": "2021-12-29T04:27:11.072603Z",
     "shell.execute_reply": "2021-12-29T04:27:11.073199Z",
     "shell.execute_reply.started": "2021-12-29T04:10:18.776844Z"
    },
    "papermill": {
     "duration": 0.054542,
     "end_time": "2021-12-29T04:27:11.073373",
     "exception": false,
     "start_time": "2021-12-29T04:27:11.018831",
     "status": "completed"
    },
    "tags": []
   },
   "outputs": [
    {
     "data": {
      "text/plain": [
       "array(['within 1km', '1km - 3km', 'more than 3km'], dtype=object)"
      ]
     },
     "execution_count": 21,
     "metadata": {},
     "output_type": "execute_result"
    }
   ],
   "source": [
    "data['Distance'].unique()"
   ]
  },
  {
   "cell_type": "code",
   "execution_count": 22,
   "id": "8b7456c9",
   "metadata": {
    "execution": {
     "iopub.execute_input": "2021-12-29T04:27:11.169504Z",
     "iopub.status.busy": "2021-12-29T04:27:11.168520Z",
     "iopub.status.idle": "2021-12-29T04:27:11.174258Z",
     "shell.execute_reply": "2021-12-29T04:27:11.174842Z",
     "shell.execute_reply.started": "2021-12-29T04:10:21.351716Z"
    },
    "papermill": {
     "duration": 0.056292,
     "end_time": "2021-12-29T04:27:11.175005",
     "exception": false,
     "start_time": "2021-12-29T04:27:11.118713",
     "status": "completed"
    },
    "tags": []
   },
   "outputs": [
    {
     "data": {
      "text/plain": [
       "array(['Yes', 'No'], dtype=object)"
      ]
     },
     "execution_count": 22,
     "metadata": {},
     "output_type": "execute_result"
    }
   ],
   "source": [
    "data['Membership'].unique()"
   ]
  },
  {
   "cell_type": "code",
   "execution_count": 23,
   "id": "99c76330",
   "metadata": {
    "execution": {
     "iopub.execute_input": "2021-12-29T04:27:11.270411Z",
     "iopub.status.busy": "2021-12-29T04:27:11.269402Z",
     "iopub.status.idle": "2021-12-29T04:27:11.274969Z",
     "shell.execute_reply": "2021-12-29T04:27:11.275534Z",
     "shell.execute_reply.started": "2021-12-29T04:11:46.753117Z"
    },
    "papermill": {
     "duration": 0.054891,
     "end_time": "2021-12-29T04:27:11.275702",
     "exception": false,
     "start_time": "2021-12-29T04:27:11.220811",
     "status": "completed"
    },
    "tags": []
   },
   "outputs": [
    {
     "data": {
      "text/plain": [
       "array(['Less than RM20', 'Around RM20 - RM40', 'More than RM40', 'Zero'],\n",
       "      dtype=object)"
      ]
     },
     "execution_count": 23,
     "metadata": {},
     "output_type": "execute_result"
    }
   ],
   "source": [
    "data['Spending'].unique()"
   ]
  },
  {
   "cell_type": "code",
   "execution_count": 24,
   "id": "bf0a9a2c",
   "metadata": {
    "execution": {
     "iopub.execute_input": "2021-12-29T04:27:11.371612Z",
     "iopub.status.busy": "2021-12-29T04:27:11.370591Z",
     "iopub.status.idle": "2021-12-29T04:27:11.391773Z",
     "shell.execute_reply": "2021-12-29T04:27:11.392323Z",
     "shell.execute_reply.started": "2021-12-29T04:11:49.388773Z"
    },
    "papermill": {
     "duration": 0.071021,
     "end_time": "2021-12-29T04:27:11.392496",
     "exception": false,
     "start_time": "2021-12-29T04:27:11.321475",
     "status": "completed"
    },
    "tags": []
   },
   "outputs": [],
   "source": [
    "data[\"Gender\"].replace({\"Female\": 1, \"Male\": 0}, inplace=True)\n",
    "data[\"Age\"].replace({\"Below 20\": 0, \"From 20 to 29\": 1, \"From 30 to 39\": 2, \"40 and above\": 3}, inplace=True)\n",
    "data[\"Work_Status\"].replace({\"Student\": 0, \"Employed\": 1, \"Self-employed\": 2, \"Housewife\": 3}, inplace=True)\n",
    "data[\"Annual_Income\"].replace({\"Less than RM25,000\": 0, \"RM25,000 - RM50,000\": 1, \"RM50,000 - RM100,000\": 2, \"RM100,000 - RM150,000\": 3, \"More than RM150,000\": 4}, inplace=True)\n",
    "data[\"Visit\"].replace({\"Never\": 0, \"Rarely\": 1, \"Monthly\": 2, \"Weekly\": 3, \"Daily\": 4}, inplace=True)\n",
    "data[\"Visit_Type\"].replace({\"Never buy\": 0, \"Take away\": 1, \"Drive-thru\": 2, \"Dine in\": 3}, inplace=True)\n",
    "data[\"Visit_Duration\"].replace({\"Below 30 minutes\": 0, \"Between 30 minutes to 1 hour\": 1, \"Between 1 hour to 2 hours\": 2, \"Between 2 hours to 3 hours\": 3, \"More than 3 hours\": 4}, inplace=True)\n",
    "data[\"Distance\"].replace({\"within 1km\": 0, \"1km - 3km\": 1, \"more than 3km\": 2}, inplace=True)\n",
    "data[\"Membership\"].replace({\"No\": 0, \"Yes\": 1}, inplace=True)\n",
    "data[\"Spending\"].replace({\"Zero\": 0, \"Less than RM20\": 1, \"Around RM20 - RM40\": 2, \"More than RM40\": 3}, inplace=True)"
   ]
  },
  {
   "cell_type": "code",
   "execution_count": 25,
   "id": "ff9275bf",
   "metadata": {
    "execution": {
     "iopub.execute_input": "2021-12-29T04:27:11.488724Z",
     "iopub.status.busy": "2021-12-29T04:27:11.487716Z",
     "iopub.status.idle": "2021-12-29T04:27:11.494578Z",
     "shell.execute_reply": "2021-12-29T04:27:11.495133Z",
     "shell.execute_reply.started": "2021-12-29T04:11:52.045872Z"
    },
    "papermill": {
     "duration": 0.056539,
     "end_time": "2021-12-29T04:27:11.495299",
     "exception": false,
     "start_time": "2021-12-29T04:27:11.438760",
     "status": "completed"
    },
    "tags": []
   },
   "outputs": [
    {
     "data": {
      "text/plain": [
       "Gender              int64\n",
       "Age                 int64\n",
       "Work_Status         int64\n",
       "Annual_Income       int64\n",
       "Visit               int64\n",
       "Visit_Type          int64\n",
       "Visit_Duration      int64\n",
       "Distance            int64\n",
       "Membership          int64\n",
       "Spending            int64\n",
       "Product_Rating      int64\n",
       "Price_Rating        int64\n",
       "Promo_Rating        int64\n",
       "Ambiance_Rating     int64\n",
       "Wifi_Rating         int64\n",
       "Service_Rating      int64\n",
       "Hangout_Rating      int64\n",
       "Loyality           object\n",
       "dtype: object"
      ]
     },
     "execution_count": 25,
     "metadata": {},
     "output_type": "execute_result"
    }
   ],
   "source": [
    "data.dtypes"
   ]
  },
  {
   "cell_type": "code",
   "execution_count": 26,
   "id": "fc100eb3",
   "metadata": {
    "execution": {
     "iopub.execute_input": "2021-12-29T04:27:11.603262Z",
     "iopub.status.busy": "2021-12-29T04:27:11.602551Z",
     "iopub.status.idle": "2021-12-29T04:27:11.605345Z",
     "shell.execute_reply": "2021-12-29T04:27:11.605818Z",
     "shell.execute_reply.started": "2021-12-29T04:11:55.550396Z"
    },
    "papermill": {
     "duration": 0.06445,
     "end_time": "2021-12-29T04:27:11.605989",
     "exception": false,
     "start_time": "2021-12-29T04:27:11.541539",
     "status": "completed"
    },
    "tags": []
   },
   "outputs": [
    {
     "data": {
      "text/html": [
       "<div>\n",
       "<style scoped>\n",
       "    .dataframe tbody tr th:only-of-type {\n",
       "        vertical-align: middle;\n",
       "    }\n",
       "\n",
       "    .dataframe tbody tr th {\n",
       "        vertical-align: top;\n",
       "    }\n",
       "\n",
       "    .dataframe thead th {\n",
       "        text-align: right;\n",
       "    }\n",
       "</style>\n",
       "<table border=\"1\" class=\"dataframe\">\n",
       "  <thead>\n",
       "    <tr style=\"text-align: right;\">\n",
       "      <th></th>\n",
       "      <th>Gender</th>\n",
       "      <th>Age</th>\n",
       "      <th>Work_Status</th>\n",
       "      <th>Annual_Income</th>\n",
       "      <th>Visit</th>\n",
       "      <th>Visit_Type</th>\n",
       "      <th>Visit_Duration</th>\n",
       "      <th>Distance</th>\n",
       "      <th>Membership</th>\n",
       "      <th>Spending</th>\n",
       "      <th>Product_Rating</th>\n",
       "      <th>Price_Rating</th>\n",
       "      <th>Promo_Rating</th>\n",
       "      <th>Ambiance_Rating</th>\n",
       "      <th>Wifi_Rating</th>\n",
       "      <th>Service_Rating</th>\n",
       "      <th>Hangout_Rating</th>\n",
       "      <th>Loyality</th>\n",
       "    </tr>\n",
       "  </thead>\n",
       "  <tbody>\n",
       "    <tr>\n",
       "      <th>0</th>\n",
       "      <td>1</td>\n",
       "      <td>1</td>\n",
       "      <td>0</td>\n",
       "      <td>0</td>\n",
       "      <td>1</td>\n",
       "      <td>3</td>\n",
       "      <td>1</td>\n",
       "      <td>0</td>\n",
       "      <td>1</td>\n",
       "      <td>1</td>\n",
       "      <td>4</td>\n",
       "      <td>3</td>\n",
       "      <td>5</td>\n",
       "      <td>5</td>\n",
       "      <td>4</td>\n",
       "      <td>4</td>\n",
       "      <td>3</td>\n",
       "      <td>Yes</td>\n",
       "    </tr>\n",
       "    <tr>\n",
       "      <th>1</th>\n",
       "      <td>1</td>\n",
       "      <td>1</td>\n",
       "      <td>0</td>\n",
       "      <td>0</td>\n",
       "      <td>1</td>\n",
       "      <td>1</td>\n",
       "      <td>0</td>\n",
       "      <td>1</td>\n",
       "      <td>1</td>\n",
       "      <td>1</td>\n",
       "      <td>4</td>\n",
       "      <td>3</td>\n",
       "      <td>4</td>\n",
       "      <td>4</td>\n",
       "      <td>4</td>\n",
       "      <td>5</td>\n",
       "      <td>2</td>\n",
       "      <td>Yes</td>\n",
       "    </tr>\n",
       "    <tr>\n",
       "      <th>2</th>\n",
       "      <td>0</td>\n",
       "      <td>1</td>\n",
       "      <td>1</td>\n",
       "      <td>0</td>\n",
       "      <td>2</td>\n",
       "      <td>3</td>\n",
       "      <td>1</td>\n",
       "      <td>2</td>\n",
       "      <td>1</td>\n",
       "      <td>1</td>\n",
       "      <td>4</td>\n",
       "      <td>3</td>\n",
       "      <td>4</td>\n",
       "      <td>4</td>\n",
       "      <td>4</td>\n",
       "      <td>4</td>\n",
       "      <td>3</td>\n",
       "      <td>Yes</td>\n",
       "    </tr>\n",
       "    <tr>\n",
       "      <th>3</th>\n",
       "      <td>1</td>\n",
       "      <td>1</td>\n",
       "      <td>0</td>\n",
       "      <td>0</td>\n",
       "      <td>1</td>\n",
       "      <td>1</td>\n",
       "      <td>0</td>\n",
       "      <td>2</td>\n",
       "      <td>0</td>\n",
       "      <td>1</td>\n",
       "      <td>2</td>\n",
       "      <td>1</td>\n",
       "      <td>4</td>\n",
       "      <td>3</td>\n",
       "      <td>3</td>\n",
       "      <td>3</td>\n",
       "      <td>3</td>\n",
       "      <td>No</td>\n",
       "    </tr>\n",
       "    <tr>\n",
       "      <th>4</th>\n",
       "      <td>0</td>\n",
       "      <td>1</td>\n",
       "      <td>0</td>\n",
       "      <td>0</td>\n",
       "      <td>2</td>\n",
       "      <td>1</td>\n",
       "      <td>1</td>\n",
       "      <td>1</td>\n",
       "      <td>0</td>\n",
       "      <td>2</td>\n",
       "      <td>3</td>\n",
       "      <td>3</td>\n",
       "      <td>4</td>\n",
       "      <td>2</td>\n",
       "      <td>2</td>\n",
       "      <td>3</td>\n",
       "      <td>3</td>\n",
       "      <td>Yes</td>\n",
       "    </tr>\n",
       "  </tbody>\n",
       "</table>\n",
       "</div>"
      ],
      "text/plain": [
       "   Gender  Age  Work_Status  Annual_Income  Visit  Visit_Type  Visit_Duration  \\\n",
       "0       1    1            0              0      1           3               1   \n",
       "1       1    1            0              0      1           1               0   \n",
       "2       0    1            1              0      2           3               1   \n",
       "3       1    1            0              0      1           1               0   \n",
       "4       0    1            0              0      2           1               1   \n",
       "\n",
       "   Distance  Membership  Spending  Product_Rating  Price_Rating  Promo_Rating  \\\n",
       "0         0           1         1               4             3             5   \n",
       "1         1           1         1               4             3             4   \n",
       "2         2           1         1               4             3             4   \n",
       "3         2           0         1               2             1             4   \n",
       "4         1           0         2               3             3             4   \n",
       "\n",
       "   Ambiance_Rating  Wifi_Rating  Service_Rating  Hangout_Rating Loyality  \n",
       "0                5            4               4               3      Yes  \n",
       "1                4            4               5               2      Yes  \n",
       "2                4            4               4               3      Yes  \n",
       "3                3            3               3               3       No  \n",
       "4                2            2               3               3      Yes  "
      ]
     },
     "execution_count": 26,
     "metadata": {},
     "output_type": "execute_result"
    }
   ],
   "source": [
    "data.head()"
   ]
  },
  {
   "cell_type": "markdown",
   "id": "35d8edad",
   "metadata": {
    "papermill": {
     "duration": 0.04669,
     "end_time": "2021-12-29T04:27:11.699716",
     "exception": false,
     "start_time": "2021-12-29T04:27:11.653026",
     "status": "completed"
    },
    "tags": []
   },
   "source": [
    "\n",
    "\n",
    "---\n",
    "\n",
    "\n",
    "# **Modelling**\n"
   ]
  },
  {
   "cell_type": "markdown",
   "id": "61c0e6cb",
   "metadata": {
    "papermill": {
     "duration": 0.046495,
     "end_time": "2021-12-29T04:27:11.794074",
     "exception": false,
     "start_time": "2021-12-29T04:27:11.747579",
     "status": "completed"
    },
    "tags": []
   },
   "source": [
    "\n",
    "At this stage a model will be formed from the training data.\n",
    "\n"
   ]
  },
  {
   "cell_type": "code",
   "execution_count": 27,
   "id": "af893f20",
   "metadata": {
    "execution": {
     "iopub.execute_input": "2021-12-29T04:27:11.895362Z",
     "iopub.status.busy": "2021-12-29T04:27:11.894702Z",
     "iopub.status.idle": "2021-12-29T04:27:11.899758Z",
     "shell.execute_reply": "2021-12-29T04:27:11.900243Z",
     "shell.execute_reply.started": "2021-12-29T04:11:58.525120Z"
    },
    "papermill": {
     "duration": 0.058862,
     "end_time": "2021-12-29T04:27:11.900425",
     "exception": false,
     "start_time": "2021-12-29T04:27:11.841563",
     "status": "completed"
    },
    "tags": []
   },
   "outputs": [],
   "source": [
    "# Retrieve dataset\n",
    "datasb = data\n",
    "# Split in X and y\n",
    "X, y = datasb.iloc[:,:-1], datasb.iloc[:,-1]\n",
    "\n",
    "# The dataset is divided into two, for training data and testing data\n",
    "# Data Training : Data Testing - 70% : 30%\n",
    "X_train, X_test, y_train, y_test= train_test_split(X, y, test_size=0.3, random_state=123)"
   ]
  },
  {
   "cell_type": "code",
   "execution_count": 28,
   "id": "b0b1dc67",
   "metadata": {
    "execution": {
     "iopub.execute_input": "2021-12-29T04:27:12.002536Z",
     "iopub.status.busy": "2021-12-29T04:27:12.001785Z",
     "iopub.status.idle": "2021-12-29T04:27:12.003545Z",
     "shell.execute_reply": "2021-12-29T04:27:12.004028Z",
     "shell.execute_reply.started": "2021-12-29T04:12:01.239998Z"
    },
    "papermill": {
     "duration": 0.054674,
     "end_time": "2021-12-29T04:27:12.004210",
     "exception": false,
     "start_time": "2021-12-29T04:27:11.949536",
     "status": "completed"
    },
    "tags": []
   },
   "outputs": [],
   "source": [
    "# Create an XGBoost Classifier model\n",
    "xg_cl = xgb.XGBClassifier(objective='binary:logistic', n_estimators=1000, seed=123, learning_rate=0.1, max_depth=5, colsample_bytree=1, subsample=1)"
   ]
  },
  {
   "cell_type": "markdown",
   "id": "e4dcde90",
   "metadata": {
    "papermill": {
     "duration": 0.047294,
     "end_time": "2021-12-29T04:27:12.099214",
     "exception": false,
     "start_time": "2021-12-29T04:27:12.051920",
     "status": "completed"
    },
    "tags": []
   },
   "source": [
    "XGBClassifier Parameters:\n",
    "\n",
    "* Objective - What is your goal for this particular problem, here we have a binary classification problem of 2 class hence use binary:logistic.\n",
    "* n_estimators - The number of trees we use for the classification problem.\n",
    "* learning_rate - How big a step to take.\n",
    "* max_depth - Maximum depth of each tree.\n",
    "* colsample_bytree - What percentage of features each tree has.\n",
    "* subsample - What percentage of data is used by each tree."
   ]
  },
  {
   "cell_type": "code",
   "execution_count": 29,
   "id": "aad3ab52",
   "metadata": {
    "execution": {
     "iopub.execute_input": "2021-12-29T04:27:12.198799Z",
     "iopub.status.busy": "2021-12-29T04:27:12.197791Z",
     "iopub.status.idle": "2021-12-29T04:27:14.410348Z",
     "shell.execute_reply": "2021-12-29T04:27:14.411050Z",
     "shell.execute_reply.started": "2021-12-29T04:12:04.785860Z"
    },
    "papermill": {
     "duration": 2.264612,
     "end_time": "2021-12-29T04:27:14.411242",
     "exception": false,
     "start_time": "2021-12-29T04:27:12.146630",
     "status": "completed"
    },
    "tags": []
   },
   "outputs": [
    {
     "name": "stdout",
     "output_type": "stream",
     "text": [
      "[04:27:12] WARNING: ../src/learner.cc:1115: Starting in XGBoost 1.3.0, the default evaluation metric used with the objective 'binary:logistic' was changed from 'error' to 'logloss'. Explicitly set eval_metric if you'd like to restore the old behavior.\n"
     ]
    },
    {
     "data": {
      "text/plain": [
       "XGBClassifier(base_score=0.5, booster='gbtree', colsample_bylevel=1,\n",
       "              colsample_bynode=1, colsample_bytree=1, enable_categorical=False,\n",
       "              gamma=0, gpu_id=-1, importance_type=None,\n",
       "              interaction_constraints='', learning_rate=0.1, max_delta_step=0,\n",
       "              max_depth=5, min_child_weight=1, missing=nan,\n",
       "              monotone_constraints='()', n_estimators=1000, n_jobs=4,\n",
       "              num_parallel_tree=1, predictor='auto', random_state=123,\n",
       "              reg_alpha=0, reg_lambda=1, scale_pos_weight=1, seed=123,\n",
       "              subsample=1, tree_method='exact', validate_parameters=1,\n",
       "              verbosity=None)"
      ]
     },
     "execution_count": 29,
     "metadata": {},
     "output_type": "execute_result"
    }
   ],
   "source": [
    "# Fitting model XGBoost\n",
    "xg_cl.fit(X_train,y_train)"
   ]
  },
  {
   "cell_type": "code",
   "execution_count": 30,
   "id": "20e4313f",
   "metadata": {
    "execution": {
     "iopub.execute_input": "2021-12-29T04:27:14.514154Z",
     "iopub.status.busy": "2021-12-29T04:27:14.513137Z",
     "iopub.status.idle": "2021-12-29T04:27:14.541768Z",
     "shell.execute_reply": "2021-12-29T04:27:14.542922Z",
     "shell.execute_reply.started": "2021-12-29T04:12:10.179651Z"
    },
    "papermill": {
     "duration": 0.084145,
     "end_time": "2021-12-29T04:27:14.543135",
     "exception": false,
     "start_time": "2021-12-29T04:27:14.458990",
     "status": "completed"
    },
    "tags": []
   },
   "outputs": [],
   "source": [
    "# Prediction of testing data\n",
    "preds = xg_cl.predict(X_test)"
   ]
  },
  {
   "cell_type": "code",
   "execution_count": 31,
   "id": "ff8c6e0d",
   "metadata": {
    "execution": {
     "iopub.execute_input": "2021-12-29T04:27:14.641893Z",
     "iopub.status.busy": "2021-12-29T04:27:14.640961Z",
     "iopub.status.idle": "2021-12-29T04:27:14.646964Z",
     "shell.execute_reply": "2021-12-29T04:27:14.647572Z",
     "shell.execute_reply.started": "2021-12-29T04:12:12.780446Z"
    },
    "papermill": {
     "duration": 0.057006,
     "end_time": "2021-12-29T04:27:14.647733",
     "exception": false,
     "start_time": "2021-12-29T04:27:14.590727",
     "status": "completed"
    },
    "tags": []
   },
   "outputs": [
    {
     "name": "stdout",
     "output_type": "stream",
     "text": [
      "Accuracy: 0.891892\n"
     ]
    }
   ],
   "source": [
    "# View accuracy scores\n",
    "accuracy = float(np.sum(preds==y_test))/y_test.shape[0]\n",
    "print(\"Accuracy: %f\" % (accuracy))"
   ]
  },
  {
   "cell_type": "code",
   "execution_count": 32,
   "id": "60a78cc9",
   "metadata": {
    "execution": {
     "iopub.execute_input": "2021-12-29T04:27:14.747047Z",
     "iopub.status.busy": "2021-12-29T04:27:14.746407Z",
     "iopub.status.idle": "2021-12-29T04:27:15.022619Z",
     "shell.execute_reply": "2021-12-29T04:27:15.022130Z",
     "shell.execute_reply.started": "2021-12-29T04:12:15.175889Z"
    },
    "papermill": {
     "duration": 0.327236,
     "end_time": "2021-12-29T04:27:15.022758",
     "exception": false,
     "start_time": "2021-12-29T04:27:14.695522",
     "status": "completed"
    },
    "tags": []
   },
   "outputs": [
    {
     "data": {
      "text/plain": [
       "<sklearn.metrics._plot.confusion_matrix.ConfusionMatrixDisplay at 0x7f669105bcd0>"
      ]
     },
     "execution_count": 32,
     "metadata": {},
     "output_type": "execute_result"
    },
    {
     "data": {
      "image/png": "[encoded data removed]",
      "text/plain": [
       "<Figure size 432x288 with 2 Axes>"
      ]
     },
     "metadata": {
      "needs_background": "light"
     },
     "output_type": "display_data"
    }
   ],
   "source": [
    "plot_confusion_matrix(xg_cl,X_test,y_test,cmap='RdPu')"
   ]
  },
  {
   "cell_type": "code",
   "execution_count": 33,
   "id": "d301b0f1",
   "metadata": {
    "execution": {
     "iopub.execute_input": "2021-12-29T04:27:15.125594Z",
     "iopub.status.busy": "2021-12-29T04:27:15.124917Z",
     "iopub.status.idle": "2021-12-29T04:27:15.353192Z",
     "shell.execute_reply": "2021-12-29T04:27:15.352589Z",
     "shell.execute_reply.started": "2021-12-29T04:12:18.229839Z"
    },
    "papermill": {
     "duration": 0.281854,
     "end_time": "2021-12-29T04:27:15.353347",
     "exception": false,
     "start_time": "2021-12-29T04:27:15.071493",
     "status": "completed"
    },
    "tags": []
   },
   "outputs": [
    {
     "data": {
      "text/plain": [
       "<sklearn.metrics._plot.roc_curve.RocCurveDisplay at 0x7f668f762990>"
      ]
     },
     "execution_count": 33,
     "metadata": {},
     "output_type": "execute_result"
    },
    {
     "data": {
      "image/png": "[encoded data removed]",
      "text/plain": [
       "<Figure size 432x288 with 1 Axes>"
      ]
     },
     "metadata": {
      "needs_background": "light"
     },
     "output_type": "display_data"
    }
   ],
   "source": [
    "plot_roc_curve(xg_cl,X_test,y_test)"
   ]
  },
  {
   "cell_type": "markdown",
   "id": "05cb3599",
   "metadata": {
    "papermill": {
     "duration": 0.049764,
     "end_time": "2021-12-29T04:27:15.453370",
     "exception": false,
     "start_time": "2021-12-29T04:27:15.403606",
     "status": "completed"
    },
    "tags": []
   },
   "source": [
    "ROC Curve or Receiver Operating Characteristic Curve, is a graph that shows the performance of the classification model across all classification thresholds. This curve plots two parameters: True Positive Rate and False Positive Rate."
   ]
  },
  {
   "cell_type": "code",
   "execution_count": 34,
   "id": "3683fea7",
   "metadata": {
    "execution": {
     "iopub.execute_input": "2021-12-29T04:27:15.559248Z",
     "iopub.status.busy": "2021-12-29T04:27:15.558543Z",
     "iopub.status.idle": "2021-12-29T04:27:15.875875Z",
     "shell.execute_reply": "2021-12-29T04:27:15.875347Z",
     "shell.execute_reply.started": "2021-12-29T04:12:22.031123Z"
    },
    "papermill": {
     "duration": 0.372361,
     "end_time": "2021-12-29T04:27:15.876020",
     "exception": false,
     "start_time": "2021-12-29T04:27:15.503659",
     "status": "completed"
    },
    "tags": []
   },
   "outputs": [
    {
     "data": {
      "image/png": "[encoded data removed]",
      "text/plain": [
       "<Figure size 432x288 with 1 Axes>"
      ]
     },
     "metadata": {
      "needs_background": "light"
     },
     "output_type": "display_data"
    }
   ],
   "source": [
    "# View the most important features in the classification\n",
    "xgb.plot_importance(xg_cl)\n",
    "plt.show()"
   ]
  },
  {
   "cell_type": "markdown",
   "id": "e7719d83",
   "metadata": {
    "papermill": {
     "duration": 0.051329,
     "end_time": "2021-12-29T04:27:15.979531",
     "exception": false,
     "start_time": "2021-12-29T04:27:15.928202",
     "status": "completed"
    },
    "tags": []
   },
   "source": [
    "It can be seen here, Price_Rating is the most important attribute in predicting customer loyalty."
   ]
  },
  {
   "cell_type": "markdown",
   "id": "71e0bc34",
   "metadata": {
    "papermill": {
     "duration": 0.051596,
     "end_time": "2021-12-29T04:27:16.082353",
     "exception": false,
     "start_time": "2021-12-29T04:27:16.030757",
     "status": "completed"
    },
    "tags": []
   },
   "source": [
    "\n",
    "\n",
    "---\n",
    "\n",
    "\n",
    "# **Deployment**\n"
   ]
  },
  {
   "cell_type": "markdown",
   "id": "f8b4cd44",
   "metadata": {
    "papermill": {
     "duration": 0.051869,
     "end_time": "2021-12-29T04:27:16.185621",
     "exception": false,
     "start_time": "2021-12-29T04:27:16.133752",
     "status": "completed"
    },
    "tags": []
   },
   "source": [
    "\n",
    "At this stage, a prediction test will be carried out using test data and the classification model that has been made.\n",
    "\n"
   ]
  },
  {
   "cell_type": "code",
   "execution_count": 35,
   "id": "5c98dd07",
   "metadata": {
    "execution": {
     "iopub.execute_input": "2021-12-29T04:27:16.293171Z",
     "iopub.status.busy": "2021-12-29T04:27:16.292366Z",
     "iopub.status.idle": "2021-12-29T04:27:16.295555Z",
     "shell.execute_reply": "2021-12-29T04:27:16.295002Z",
     "shell.execute_reply.started": "2021-12-29T04:12:26.840989Z"
    },
    "papermill": {
     "duration": 0.058811,
     "end_time": "2021-12-29T04:27:16.295692",
     "exception": false,
     "start_time": "2021-12-29T04:27:16.236881",
     "status": "completed"
    },
    "tags": []
   },
   "outputs": [],
   "source": [
    "# Save model to file\n",
    "#import pickle\n",
    "#xg_cl.save_model(\"xgb_model.bin\")"
   ]
  },
  {
   "cell_type": "code",
   "execution_count": 36,
   "id": "36447095",
   "metadata": {
    "execution": {
     "iopub.execute_input": "2021-12-29T04:27:16.404521Z",
     "iopub.status.busy": "2021-12-29T04:27:16.402749Z",
     "iopub.status.idle": "2021-12-29T04:27:16.415566Z",
     "shell.execute_reply": "2021-12-29T04:27:16.414912Z",
     "shell.execute_reply.started": "2021-12-29T04:21:45.477866Z"
    },
    "papermill": {
     "duration": 0.067048,
     "end_time": "2021-12-29T04:27:16.415711",
     "exception": false,
     "start_time": "2021-12-29T04:27:16.348663",
     "status": "completed"
    },
    "tags": []
   },
   "outputs": [],
   "source": [
    "# Try test data\n",
    "testdata = pd.read_csv('../input/test-data-starbucks-survey/test data starbucks survey.csv')"
   ]
  },
  {
   "cell_type": "code",
   "execution_count": 37,
   "id": "7f503464",
   "metadata": {
    "execution": {
     "iopub.execute_input": "2021-12-29T04:27:16.528799Z",
     "iopub.status.busy": "2021-12-29T04:27:16.528122Z",
     "iopub.status.idle": "2021-12-29T04:27:16.534671Z",
     "shell.execute_reply": "2021-12-29T04:27:16.535199Z",
     "shell.execute_reply.started": "2021-12-29T04:21:49.462359Z"
    },
    "papermill": {
     "duration": 0.067169,
     "end_time": "2021-12-29T04:27:16.535417",
     "exception": false,
     "start_time": "2021-12-29T04:27:16.468248",
     "status": "completed"
    },
    "tags": []
   },
   "outputs": [],
   "source": [
    "# Predict test data\n",
    "test_prediction=xg_cl.predict(testdata)"
   ]
  },
  {
   "cell_type": "code",
   "execution_count": 38,
   "id": "4f32ba79",
   "metadata": {
    "execution": {
     "iopub.execute_input": "2021-12-29T04:27:16.646602Z",
     "iopub.status.busy": "2021-12-29T04:27:16.645872Z",
     "iopub.status.idle": "2021-12-29T04:27:16.648123Z",
     "shell.execute_reply": "2021-12-29T04:27:16.648562Z",
     "shell.execute_reply.started": "2021-12-29T04:21:52.380737Z"
    },
    "papermill": {
     "duration": 0.059987,
     "end_time": "2021-12-29T04:27:16.648746",
     "exception": false,
     "start_time": "2021-12-29T04:27:16.588759",
     "status": "completed"
    },
    "tags": []
   },
   "outputs": [],
   "source": [
    "# Prediction results are placed in the Loyality column\n",
    "testdata['Loyality'] = test_prediction"
   ]
  },
  {
   "cell_type": "code",
   "execution_count": 39,
   "id": "76c0f968",
   "metadata": {
    "execution": {
     "iopub.execute_input": "2021-12-29T04:27:16.772948Z",
     "iopub.status.busy": "2021-12-29T04:27:16.771949Z",
     "iopub.status.idle": "2021-12-29T04:27:16.776741Z",
     "shell.execute_reply": "2021-12-29T04:27:16.776150Z",
     "shell.execute_reply.started": "2021-12-29T04:21:54.510510Z"
    },
    "papermill": {
     "duration": 0.075066,
     "end_time": "2021-12-29T04:27:16.776881",
     "exception": false,
     "start_time": "2021-12-29T04:27:16.701815",
     "status": "completed"
    },
    "tags": []
   },
   "outputs": [
    {
     "data": {
      "text/html": [
       "<div>\n",
       "<style scoped>\n",
       "    .dataframe tbody tr th:only-of-type {\n",
       "        vertical-align: middle;\n",
       "    }\n",
       "\n",
       "    .dataframe tbody tr th {\n",
       "        vertical-align: top;\n",
       "    }\n",
       "\n",
       "    .dataframe thead th {\n",
       "        text-align: right;\n",
       "    }\n",
       "</style>\n",
       "<table border=\"1\" class=\"dataframe\">\n",
       "  <thead>\n",
       "    <tr style=\"text-align: right;\">\n",
       "      <th></th>\n",
       "      <th>Gender</th>\n",
       "      <th>Age</th>\n",
       "      <th>Work_Status</th>\n",
       "      <th>Annual_Income</th>\n",
       "      <th>Visit</th>\n",
       "      <th>Visit_Type</th>\n",
       "      <th>Visit_Duration</th>\n",
       "      <th>Distance</th>\n",
       "      <th>Membership</th>\n",
       "      <th>Spending</th>\n",
       "      <th>Product_Rating</th>\n",
       "      <th>Price_Rating</th>\n",
       "      <th>Promo_Rating</th>\n",
       "      <th>Ambiance_Rating</th>\n",
       "      <th>Wifi_Rating</th>\n",
       "      <th>Service_Rating</th>\n",
       "      <th>Hangout_Rating</th>\n",
       "      <th>Loyality</th>\n",
       "    </tr>\n",
       "  </thead>\n",
       "  <tbody>\n",
       "    <tr>\n",
       "      <th>0</th>\n",
       "      <td>1</td>\n",
       "      <td>1</td>\n",
       "      <td>0</td>\n",
       "      <td>0</td>\n",
       "      <td>1</td>\n",
       "      <td>3</td>\n",
       "      <td>1</td>\n",
       "      <td>0</td>\n",
       "      <td>1</td>\n",
       "      <td>1</td>\n",
       "      <td>4</td>\n",
       "      <td>3</td>\n",
       "      <td>5</td>\n",
       "      <td>5</td>\n",
       "      <td>4</td>\n",
       "      <td>4</td>\n",
       "      <td>3</td>\n",
       "      <td>Yes</td>\n",
       "    </tr>\n",
       "    <tr>\n",
       "      <th>1</th>\n",
       "      <td>1</td>\n",
       "      <td>1</td>\n",
       "      <td>0</td>\n",
       "      <td>0</td>\n",
       "      <td>1</td>\n",
       "      <td>1</td>\n",
       "      <td>0</td>\n",
       "      <td>1</td>\n",
       "      <td>1</td>\n",
       "      <td>1</td>\n",
       "      <td>4</td>\n",
       "      <td>3</td>\n",
       "      <td>4</td>\n",
       "      <td>4</td>\n",
       "      <td>4</td>\n",
       "      <td>5</td>\n",
       "      <td>2</td>\n",
       "      <td>Yes</td>\n",
       "    </tr>\n",
       "    <tr>\n",
       "      <th>2</th>\n",
       "      <td>0</td>\n",
       "      <td>1</td>\n",
       "      <td>1</td>\n",
       "      <td>0</td>\n",
       "      <td>2</td>\n",
       "      <td>3</td>\n",
       "      <td>1</td>\n",
       "      <td>2</td>\n",
       "      <td>1</td>\n",
       "      <td>1</td>\n",
       "      <td>4</td>\n",
       "      <td>3</td>\n",
       "      <td>4</td>\n",
       "      <td>4</td>\n",
       "      <td>4</td>\n",
       "      <td>4</td>\n",
       "      <td>3</td>\n",
       "      <td>Yes</td>\n",
       "    </tr>\n",
       "    <tr>\n",
       "      <th>3</th>\n",
       "      <td>1</td>\n",
       "      <td>1</td>\n",
       "      <td>0</td>\n",
       "      <td>0</td>\n",
       "      <td>1</td>\n",
       "      <td>1</td>\n",
       "      <td>0</td>\n",
       "      <td>2</td>\n",
       "      <td>0</td>\n",
       "      <td>1</td>\n",
       "      <td>2</td>\n",
       "      <td>1</td>\n",
       "      <td>4</td>\n",
       "      <td>3</td>\n",
       "      <td>3</td>\n",
       "      <td>3</td>\n",
       "      <td>3</td>\n",
       "      <td>No</td>\n",
       "    </tr>\n",
       "    <tr>\n",
       "      <th>4</th>\n",
       "      <td>0</td>\n",
       "      <td>1</td>\n",
       "      <td>0</td>\n",
       "      <td>0</td>\n",
       "      <td>2</td>\n",
       "      <td>1</td>\n",
       "      <td>1</td>\n",
       "      <td>1</td>\n",
       "      <td>0</td>\n",
       "      <td>2</td>\n",
       "      <td>3</td>\n",
       "      <td>3</td>\n",
       "      <td>4</td>\n",
       "      <td>2</td>\n",
       "      <td>2</td>\n",
       "      <td>3</td>\n",
       "      <td>3</td>\n",
       "      <td>Yes</td>\n",
       "    </tr>\n",
       "    <tr>\n",
       "      <th>5</th>\n",
       "      <td>1</td>\n",
       "      <td>1</td>\n",
       "      <td>0</td>\n",
       "      <td>0</td>\n",
       "      <td>1</td>\n",
       "      <td>3</td>\n",
       "      <td>1</td>\n",
       "      <td>2</td>\n",
       "      <td>0</td>\n",
       "      <td>1</td>\n",
       "      <td>4</td>\n",
       "      <td>3</td>\n",
       "      <td>5</td>\n",
       "      <td>5</td>\n",
       "      <td>4</td>\n",
       "      <td>5</td>\n",
       "      <td>4</td>\n",
       "      <td>Yes</td>\n",
       "    </tr>\n",
       "    <tr>\n",
       "      <th>6</th>\n",
       "      <td>1</td>\n",
       "      <td>1</td>\n",
       "      <td>0</td>\n",
       "      <td>0</td>\n",
       "      <td>1</td>\n",
       "      <td>3</td>\n",
       "      <td>0</td>\n",
       "      <td>0</td>\n",
       "      <td>1</td>\n",
       "      <td>2</td>\n",
       "      <td>5</td>\n",
       "      <td>5</td>\n",
       "      <td>5</td>\n",
       "      <td>5</td>\n",
       "      <td>3</td>\n",
       "      <td>5</td>\n",
       "      <td>5</td>\n",
       "      <td>Yes</td>\n",
       "    </tr>\n",
       "    <tr>\n",
       "      <th>7</th>\n",
       "      <td>0</td>\n",
       "      <td>1</td>\n",
       "      <td>1</td>\n",
       "      <td>2</td>\n",
       "      <td>1</td>\n",
       "      <td>3</td>\n",
       "      <td>1</td>\n",
       "      <td>2</td>\n",
       "      <td>1</td>\n",
       "      <td>1</td>\n",
       "      <td>4</td>\n",
       "      <td>2</td>\n",
       "      <td>3</td>\n",
       "      <td>3</td>\n",
       "      <td>3</td>\n",
       "      <td>3</td>\n",
       "      <td>3</td>\n",
       "      <td>Yes</td>\n",
       "    </tr>\n",
       "    <tr>\n",
       "      <th>8</th>\n",
       "      <td>1</td>\n",
       "      <td>1</td>\n",
       "      <td>0</td>\n",
       "      <td>0</td>\n",
       "      <td>1</td>\n",
       "      <td>2</td>\n",
       "      <td>0</td>\n",
       "      <td>2</td>\n",
       "      <td>1</td>\n",
       "      <td>3</td>\n",
       "      <td>5</td>\n",
       "      <td>4</td>\n",
       "      <td>4</td>\n",
       "      <td>4</td>\n",
       "      <td>4</td>\n",
       "      <td>4</td>\n",
       "      <td>4</td>\n",
       "      <td>Yes</td>\n",
       "    </tr>\n",
       "    <tr>\n",
       "      <th>9</th>\n",
       "      <td>0</td>\n",
       "      <td>1</td>\n",
       "      <td>1</td>\n",
       "      <td>0</td>\n",
       "      <td>2</td>\n",
       "      <td>1</td>\n",
       "      <td>0</td>\n",
       "      <td>2</td>\n",
       "      <td>0</td>\n",
       "      <td>2</td>\n",
       "      <td>4</td>\n",
       "      <td>3</td>\n",
       "      <td>3</td>\n",
       "      <td>4</td>\n",
       "      <td>3</td>\n",
       "      <td>3</td>\n",
       "      <td>4</td>\n",
       "      <td>Yes</td>\n",
       "    </tr>\n",
       "  </tbody>\n",
       "</table>\n",
       "</div>"
      ],
      "text/plain": [
       "   Gender  Age  Work_Status  Annual_Income  Visit  Visit_Type  Visit_Duration  \\\n",
       "0       1    1            0              0      1           3               1   \n",
       "1       1    1            0              0      1           1               0   \n",
       "2       0    1            1              0      2           3               1   \n",
       "3       1    1            0              0      1           1               0   \n",
       "4       0    1            0              0      2           1               1   \n",
       "5       1    1            0              0      1           3               1   \n",
       "6       1    1            0              0      1           3               0   \n",
       "7       0    1            1              2      1           3               1   \n",
       "8       1    1            0              0      1           2               0   \n",
       "9       0    1            1              0      2           1               0   \n",
       "\n",
       "   Distance  Membership  Spending  Product_Rating  Price_Rating  Promo_Rating  \\\n",
       "0         0           1         1               4             3             5   \n",
       "1         1           1         1               4             3             4   \n",
       "2         2           1         1               4             3             4   \n",
       "3         2           0         1               2             1             4   \n",
       "4         1           0         2               3             3             4   \n",
       "5         2           0         1               4             3             5   \n",
       "6         0           1         2               5             5             5   \n",
       "7         2           1         1               4             2             3   \n",
       "8         2           1         3               5             4             4   \n",
       "9         2           0         2               4             3             3   \n",
       "\n",
       "   Ambiance_Rating  Wifi_Rating  Service_Rating  Hangout_Rating Loyality  \n",
       "0                5            4               4               3      Yes  \n",
       "1                4            4               5               2      Yes  \n",
       "2                4            4               4               3      Yes  \n",
       "3                3            3               3               3       No  \n",
       "4                2            2               3               3      Yes  \n",
       "5                5            4               5               4      Yes  \n",
       "6                5            3               5               5      Yes  \n",
       "7                3            3               3               3      Yes  \n",
       "8                4            4               4               4      Yes  \n",
       "9                4            3               3               4      Yes  "
      ]
     },
     "execution_count": 39,
     "metadata": {},
     "output_type": "execute_result"
    }
   ],
   "source": [
    "testdata"
   ]
  },
  {
   "cell_type": "markdown",
   "id": "ca2f2c95",
   "metadata": {
    "papermill": {
     "duration": 0.052896,
     "end_time": "2021-12-29T04:27:16.884451",
     "exception": false,
     "start_time": "2021-12-29T04:27:16.831555",
     "status": "completed"
    },
    "tags": []
   },
   "source": [
    "Note: There's a better way to change Categorical to Numerical, but my knowledge is too limited and I rather do it manually. If you know how, something something about LabelEncoder, please do share, and maybe make this notebook more efficient. I don't know if that's how it works here, but I wouldn't mind learning new things. Thank you."
   ]
  }
 ],
 "metadata": {
  "kernelspec": {
   "display_name": "Python 3",
   "language": "python",
   "name": "python3"
  },
  "language_info": {
   "codemirror_mode": {
    "name": "ipython",
    "version": 3
   },
   "file_extension": ".py",
   "mimetype": "text/x-python",
   "name": "python",
   "nbconvert_exporter": "python",
   "pygments_lexer": "ipython3",
   "version": "3.7.12"
  },
  "papermill": {
   "default_parameters": {},
   "duration": 21.217389,
   "end_time": "2021-12-29T04:27:17.648404",
   "environment_variables": {},
   "exception": null,
   "input_path": "__notebook__.ipynb",
   "output_path": "__notebook__.ipynb",
   "parameters": {},
   "start_time": "2021-12-29T04:26:56.431015",
   "version": "2.3.3"
  }
 },
 "nbformat": 4,
 "nbformat_minor": 5
}
